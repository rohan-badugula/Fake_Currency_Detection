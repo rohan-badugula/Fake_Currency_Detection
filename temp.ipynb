{
 "cells": [
  {
   "cell_type": "code",
   "execution_count": 22,
   "metadata": {},
   "outputs": [
    {
     "name": "stdout",
     "output_type": "stream",
     "text": [
      "37.278248665635125\n",
      "52.318107826743734\n",
      "47.02732971022182\n",
      "--------------------------------------------------\n",
      "32.534655691179886\n",
      "42.78704656850552\n",
      "39.44552667088193\n",
      "--------------------------------------------------\n",
      "39.36622867295727\n",
      "54.92457937034334\n",
      "48.42293058691098\n",
      "--------------------------------------------------\n",
      "38.7728172519875\n",
      "49.08152133763982\n",
      "45.26837966937275\n",
      "--------------------------------------------------\n",
      "50.33282725199044\n",
      "69.51268735485161\n",
      "62.932615993818516\n",
      "--------------------------------------------------\n",
      "38.38726487366151\n",
      "58.03365502883998\n",
      "47.938399660777804\n",
      "--------------------------------------------------\n"
     ]
    }
   ],
   "source": [
    "import matplotlib.image as img\n",
    "import matplotlib.pyplot as plt\n",
    "from scipy.cluster.vq import whiten\n",
    "from scipy.cluster.vq import kmeans\n",
    "import pandas as pd\n",
    "\n",
    "def Check(path1):\n",
    "    currency_image = img.imread(path1)\n",
    "    r = []\n",
    "    g = []\n",
    "    b = []\n",
    "    for row in currency_image:\n",
    "        for temp_r,temp_g,temp_b in row:\n",
    "            r.append(temp_r)\n",
    "            g.append(temp_g)\n",
    "            b.append(temp_b)\n",
    "    currency_df = pd.DataFrame({'red' : r,'green' : g,'blue' : b})\n",
    "\n",
    "    currency_df['scaled_color_red'] = whiten(currency_df['red'])\n",
    "    currency_df['scaled_color_blue'] = whiten(currency_df['blue'])\n",
    "    currency_df['scaled_color_green'] = whiten(currency_df['green'])\n",
    "\n",
    "    cluster_centers, _ = kmeans(currency_df[['scaled_color_red','scaled_color_blue','scaled_color_green']], 3)\n",
    "    dominant_colors = []\n",
    "    red_std, green_std, blue_std = currency_df[['red','green','blue']].std()\n",
    "    return red_std\n",
    "\n",
    "\n",
    "%store -r path\n",
    "print('Path of input image: ', path)\n",
    "if Check(path) > 40:\n",
    "    %run ./500_Testing.ipynb\n",
    "else:\n",
    "    %run ./2000_Testing.ipynb\n",
    "\n"
   ]
  },
  {
   "cell_type": "code",
   "execution_count": null,
   "metadata": {},
   "outputs": [],
   "source": []
  }
 ],
 "metadata": {
  "kernelspec": {
   "display_name": "Python 3",
   "language": "python",
   "name": "python3"
  },
  "language_info": {
   "codemirror_mode": {
    "name": "ipython",
    "version": 3
   },
   "file_extension": ".py",
   "mimetype": "text/x-python",
   "name": "python",
   "nbconvert_exporter": "python",
   "pygments_lexer": "ipython3",
   "version": "3.10.4 (tags/v3.10.4:9d38120, Mar 23 2022, 23:13:41) [MSC v.1929 64 bit (AMD64)]"
  },
  "orig_nbformat": 4,
  "vscode": {
   "interpreter": {
    "hash": "26de051ba29f2982a8de78e945f0abaf191376122a1563185a90213a26c5da77"
   }
  }
 },
 "nbformat": 4,
 "nbformat_minor": 2
}
