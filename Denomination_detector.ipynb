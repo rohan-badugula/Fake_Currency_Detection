{
 "cells": [
  {
   "cell_type": "code",
   "execution_count": 3,
   "metadata": {},
   "outputs": [],
   "source": [
    "\n",
    "import cv2  "
   ]
  },
  {
   "cell_type": "code",
   "execution_count": 5,
   "metadata": {},
   "outputs": [
    {
     "ename": "IndentationError",
     "evalue": "unindent does not match any outer indentation level (<tokenize>, line 28)",
     "output_type": "error",
     "traceback": [
      "\u001b[1;36m  File \u001b[1;32m<tokenize>:28\u001b[1;36m\u001b[0m\n\u001b[1;33m    print(note)\u001b[0m\n\u001b[1;37m    ^\u001b[0m\n\u001b[1;31mIndentationError\u001b[0m\u001b[1;31m:\u001b[0m unindent does not match any outer indentation level\n"
     ]
    }
   ],
   "source": [
    "%store -r path\n",
    "print('Path of input image: ', path)\n",
    "max_val = 8\n",
    "max_pt = -1\n",
    "max_kp = 0\n",
    "orb = cv2.ORB_create(nfeatures=2500)\n",
    "test_img = cv2.imread(path)\n",
    "(kp1, des1) = orb.detectAndCompute(test_img, None)\n",
    "training_set = ['files/500.1.jpg','files/500.2.jpg','files/500.3.jpg','files/500.4.jpg','files/500.5.jpg','files/500.6.jpg','files/2000.1.jpg','files/2000.2.jpg','files/2000.3.jpg','files/2000.4.jpg','files/2000.5.jpg','files/2000.6.jpg','files/500.jpg','files/500back.jpg','files/500_1.jpg','files/500_2.jpg','files/2000.jpg','files/2000back.jpg']\n",
    "for i in range(0,len(training_set)):\n",
    "    train_img = cv2.imread(training_set[i])\n",
    "    (kp2,des2) = orb.detectAndCompute(train_img, None)\n",
    "    bf= cv2.BFMatcher()\n",
    "    all_matches = bf.knnMatch(des1, des2, k=2)\n",
    "    good=[]\n",
    "    for (m,n) in all_matches:\n",
    "        if m.distance < 0.789 * n.distance:\n",
    "            good.append([m])\n",
    "    if len(good) > max_val:\n",
    "        max_val = len(good)\n",
    "        max_pt = i\n",
    "        max_kp = kp2\n",
    "if max_val != 8:\n",
    "\tprint('good matches ', max_val)\n",
    "\ttrain_img = cv2.imread(training_set[max_pt])\n",
    "\timg3 = cv2.drawMatchesKnn(test_img, kp1, train_img, max_kp, good, 4)\n",
    "\tnote = str(training_set[max_pt])[6:-4]\n",
    "else:\n",
    "    print(\"invalid note\")\n",
    "\n",
    "if '500' in note:\n",
    "    %run ./500_Testing.ipynb\n",
    "elif '2000' in note:\n",
    "    %run ./2000_Testing.ipynb"
   ]
  }
 ],
 "metadata": {
  "kernelspec": {
   "display_name": "Python 3",
   "language": "python",
   "name": "python3"
  },
  "language_info": {
   "codemirror_mode": {
    "name": "ipython",
    "version": 3
   },
   "file_extension": ".py",
   "mimetype": "text/x-python",
   "name": "python",
   "nbconvert_exporter": "python",
   "pygments_lexer": "ipython3",
   "version": "3.10.4 (tags/v3.10.4:9d38120, Mar 23 2022, 23:13:41) [MSC v.1929 64 bit (AMD64)]"
  },
  "orig_nbformat": 4,
  "vscode": {
   "interpreter": {
    "hash": "26de051ba29f2982a8de78e945f0abaf191376122a1563185a90213a26c5da77"
   }
  }
 },
 "nbformat": 4,
 "nbformat_minor": 2
}
