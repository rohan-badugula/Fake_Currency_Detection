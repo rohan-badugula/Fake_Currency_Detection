{
 "cells": [
  {
   "cell_type": "code",
   "execution_count": 4,
   "metadata": {},
   "outputs": [],
   "source": [
    "left_BL_result = []\n",
    "right_BL_result = []\n",
    "result_list = []\n",
    "number_panel_result = []"
   ]
  },
  {
   "cell_type": "code",
   "execution_count": 3,
   "metadata": {},
   "outputs": [
    {
     "name": "stdout",
     "output_type": "stream",
     "text": [
      "Path of input image:  C:/Users/Swathi's/Desktop/Fake_Currency_Detection-master/Fake Notes/2000/2000_f1.jpg\n"
     ]
    }
   ],
   "source": [
    "#Resizing the Plots\n",
    "\n",
    "import cv2  \n",
    "import matplotlib.pyplot as plt\n",
    "%store -r path\n",
    "plt.rcParams[\"figure.figsize\"] = (12, 12)\n",
    "# A sample path:\n",
    "# path = r'Dataset\\500_dataset\\500_s1.jpg'\n",
    "\n",
    "print('Path of input image: ', path)\n",
    "\n",
    "test_img = cv2.imread(path)"
   ]
  },
  {
   "cell_type": "code",
   "execution_count": 9,
   "metadata": {},
   "outputs": [],
   "source": [
    "# Pre- processing\n",
    "\n",
    "# Resizing the image\n",
    "test_img = cv2.resize(test_img, (1167, 519))\n",
    "\n",
    "# Guassian Blur\n",
    "blur_test_img = cv2.GaussianBlur(test_img, (5,5), 0)\n",
    "\n",
    "# Grayscale conversion\n",
    "gray_test_image = cv2.cvtColor(blur_test_img, cv2.COLOR_BGR2GRAY)\n",
    "\n"
   ]
  },
  {
   "cell_type": "code",
   "execution_count": null,
   "metadata": {},
   "outputs": [],
   "source": [
    "\n"
   ]
  },
  {
   "cell_type": "code",
   "execution_count": 1,
   "metadata": {},
   "outputs": [],
   "source": [
    "def testFeature_8():\n",
    "    plt.rcParams[\"figure.figsize\"] = (5, 5)\n",
    "\n",
    "\n",
    "    # Cropping the region in which left bleed lines are present- Feature extraction\n",
    "    crop = test_img[80:240, 10:35]\n",
    "\n",
    "    img = crop.copy()\n",
    "    gray = cv2.cvtColor(img, cv2.COLOR_BGR2GRAY)\n",
    "    \n",
    "    _, thresh = cv2.threshold(gray, 130, 255, cv2.THRESH_BINARY)\n",
    "\n",
    "    plt.imshow(thresh, 'gray')\n",
    "    plt.show()\n",
    "\n",
    "    whitePixelValue = 255      # White pixel   \n",
    "    blackPixelValue = 0        # Black pixel\n",
    "    width = thresh.shape[1]    # width of thresholded image\n",
    "\n",
    "    \n",
    "    result = []               \n",
    "    num_of_cols = 0  \n",
    "    for j in range(width):\n",
    "        col =thresh[:, j:j+1]    \n",
    "        count = 0                 \n",
    "\n",
    "       \n",
    "        for i in range(len(col)-1):\n",
    "\n",
    "            \n",
    "            pixel1_value = col[i][0]\n",
    "            pixel2_value = col[i+1][0]\n",
    "\n",
    "           \n",
    "\n",
    "            if pixel1_value != 0 and pixel1_value != 255:\n",
    "                pixel1_value = 255\n",
    "            if pixel2_value != 0 and pixel2_value != 255:\n",
    "                pixel2_value = 255\n",
    "            if pixel1_value == whitePixelValue and pixel2_value == blackPixelValue:\n",
    "                count += 1\n",
    "\n",
    "       \n",
    "        if count > 0 and count < 10:\n",
    "            result.append(count)\n",
    "            num_of_cols += 1\n",
    "        else:\n",
    "             print(count, 'Erroneous -> discarded')\n",
    "            \n",
    "    if num_of_cols != 0:\n",
    "        average_count = sum(result)/num_of_cols\n",
    "    else:\n",
    "        average_count = -1\n",
    "        print('Error occured- Division by 0')\n",
    "\n",
    "    print('\\nAverage number of black regions is: ', average_count)\n",
    "\n",
    "    \n",
    "    global left_BL_result\n",
    "    left_BL_result = [thresh, average_count]\n",
    "    return average_count\n",
    "\n",
    "avg_cnt = testFeature_8()\n",
    "if avg_cnt >= 4.7 and avg_cnt <= 5.6:\n",
    "    %run ./500_Testing.ipynb\n",
    "elif avg_cnt >= 6.7 and avg_cnt <= 7.6:\n",
    "    %run ./2000_Testing.ipynb"
   ]
  }
 ],
 "metadata": {
  "kernelspec": {
   "display_name": "Python 3",
   "language": "python",
   "name": "python3"
  },
  "language_info": {
   "codemirror_mode": {
    "name": "ipython",
    "version": 3
   },
   "file_extension": ".py",
   "mimetype": "text/x-python",
   "name": "python",
   "nbconvert_exporter": "python",
   "pygments_lexer": "ipython3",
   "version": "3.10.4 (tags/v3.10.4:9d38120, Mar 23 2022, 23:13:41) [MSC v.1929 64 bit (AMD64)]"
  },
  "orig_nbformat": 4,
  "vscode": {
   "interpreter": {
    "hash": "26de051ba29f2982a8de78e945f0abaf191376122a1563185a90213a26c5da77"
   }
  }
 },
 "nbformat": 4,
 "nbformat_minor": 2
}
